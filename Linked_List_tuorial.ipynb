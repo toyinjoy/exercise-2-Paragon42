{
  "nbformat": 4,
  "nbformat_minor": 0,
  "metadata": {
    "colab": {
      "name": "Linked List tuorial",
      "provenance": [],
      "authorship_tag": "ABX9TyNPeqaC73RVm+M33V+CIpP9",
      "include_colab_link": true
    },
    "kernelspec": {
      "name": "python3",
      "display_name": "Python 3"
    },
    "language_info": {
      "name": "python"
    }
  },
  "cells": [
    {
      "cell_type": "markdown",
      "metadata": {
        "id": "view-in-github",
        "colab_type": "text"
      },
      "source": [
        "<a href=\"https://colab.research.google.com/github/toyinjoy/exercise-2-Paragon42/blob/master/Linked_List_tuorial.ipynb\" target=\"_parent\"><img src=\"https://colab.research.google.com/assets/colab-badge.svg\" alt=\"Open In Colab\"/></a>"
      ]
    },
    {
      "cell_type": "code",
      "metadata": {
        "id": "20zu9Yu82rOY"
      },
      "source": [
        "from collections import deque"
      ],
      "execution_count": null,
      "outputs": []
    },
    {
      "cell_type": "code",
      "metadata": {
        "id": "FU6LL5R52z9A"
      },
      "source": [
        "linked_list = deque()"
      ],
      "execution_count": null,
      "outputs": []
    },
    {
      "cell_type": "code",
      "metadata": {
        "id": "NyA7HFZ03EvB"
      },
      "source": [
        "linked_list.append(2)"
      ],
      "execution_count": null,
      "outputs": []
    },
    {
      "cell_type": "code",
      "metadata": {
        "colab": {
          "base_uri": "https://localhost:8080/"
        },
        "id": "1QjSLdti3eEh",
        "outputId": "f70fb9dd-0fab-4edc-ba04-3606d9644092"
      },
      "source": [
        "linked_list"
      ],
      "execution_count": null,
      "outputs": [
        {
          "output_type": "execute_result",
          "data": {
            "text/plain": [
              "deque([2])"
            ]
          },
          "metadata": {
            "tags": []
          },
          "execution_count": 6
        }
      ]
    },
    {
      "cell_type": "code",
      "metadata": {
        "colab": {
          "base_uri": "https://localhost:8080/"
        },
        "id": "hZh0L0j93x9k",
        "outputId": "f31807a4-62a9-4b7e-d174-40f30e165b5e"
      },
      "source": [
        "queue = deque()\n",
        "for i in range(0,5):\n",
        "  \n",
        "  queue.append(i)\n",
        "  print(queue)"
      ],
      "execution_count": null,
      "outputs": [
        {
          "output_type": "stream",
          "text": [
            "deque([0])\n",
            "deque([0, 1])\n",
            "deque([0, 1, 2])\n",
            "deque([0, 1, 2, 3])\n",
            "deque([0, 1, 2, 3, 4])\n"
          ],
          "name": "stdout"
        }
      ]
    },
    {
      "cell_type": "code",
      "metadata": {
        "id": "At0ru0uG4JSM"
      },
      "source": [
        "for i in range(len(queue)):\n",
        "  queue.popleft()\n",
        "  print(queue)"
      ],
      "execution_count": null,
      "outputs": []
    },
    {
      "cell_type": "code",
      "metadata": {
        "colab": {
          "base_uri": "https://localhost:8080/"
        },
        "id": "owWXKHEs5gkT",
        "outputId": "ff8d0e24-046c-45d2-b9ef-37e0ffa17fcf"
      },
      "source": [
        "stack = deque()\n",
        "for i in range(0,5):\n",
        "  stack.append(i)\n",
        "  print(stack)"
      ],
      "execution_count": null,
      "outputs": [
        {
          "output_type": "stream",
          "text": [
            "deque([0])\n",
            "deque([0, 1])\n",
            "deque([0, 1, 2])\n",
            "deque([0, 1, 2, 3])\n",
            "deque([0, 1, 2, 3, 4])\n"
          ],
          "name": "stdout"
        }
      ]
    },
    {
      "cell_type": "code",
      "metadata": {
        "colab": {
          "base_uri": "https://localhost:8080/"
        },
        "id": "mxe_DGNu6xrj",
        "outputId": "60ab2abe-575b-428e-a0c2-1b77142392f9"
      },
      "source": [
        "for i in range(len(stack)):\n",
        "  stack.pop()\n",
        "  print(stack)"
      ],
      "execution_count": null,
      "outputs": [
        {
          "output_type": "stream",
          "text": [
            "deque([0, 1, 2, 3])\n",
            "deque([0, 1, 2])\n",
            "deque([0, 1])\n",
            "deque([0])\n",
            "deque([])\n"
          ],
          "name": "stdout"
        }
      ]
    },
    {
      "cell_type": "code",
      "metadata": {
        "id": "9RBsN8yM7PMu"
      },
      "source": [
        "#practice cutom made linked list.\n",
        "class Node:\n",
        "  def __init__(self, data = None):\n",
        "    self.data = data\n",
        "    self.next = None\n",
        "class Linked:\n",
        "  def __init__(self):\n",
        "    self.head = None\n",
        "\n",
        "  def show(self):\n",
        "    node = self.head\n",
        "    while node is not None:\n",
        "      print(node.data)\n",
        "      node = node.next\n",
        "\n"
      ],
      "execution_count": null,
      "outputs": []
    },
    {
      "cell_type": "code",
      "metadata": {
        "id": "38_T0woU_p_x"
      },
      "source": [
        "link = Linked()\n"
      ],
      "execution_count": null,
      "outputs": []
    },
    {
      "cell_type": "code",
      "metadata": {
        "id": "7b1-owjl_xyG"
      },
      "source": [
        "elem = Node(5)"
      ],
      "execution_count": null,
      "outputs": []
    },
    {
      "cell_type": "code",
      "metadata": {
        "colab": {
          "base_uri": "https://localhost:8080/"
        },
        "id": "NhtNfbk_BVwW",
        "outputId": "fd0fa65b-c35d-43e7-d176-0cff25f91953"
      },
      "source": [
        "link.head = elem\n",
        "link.show()"
      ],
      "execution_count": null,
      "outputs": [
        {
          "output_type": "stream",
          "text": [
            "5\n"
          ],
          "name": "stdout"
        }
      ]
    },
    {
      "cell_type": "code",
      "metadata": {
        "colab": {
          "base_uri": "https://localhost:8080/"
        },
        "id": "43XhbHcxB4ZY",
        "outputId": "0ba6102d-a04e-4cc6-a310-fb77e35b897c"
      },
      "source": [
        "elem2 = Node(78)\n",
        "link.head.next = elem2\n",
        "link.show()"
      ],
      "execution_count": null,
      "outputs": [
        {
          "output_type": "stream",
          "text": [
            "5\n",
            "78\n"
          ],
          "name": "stdout"
        }
      ]
    },
    {
      "cell_type": "code",
      "metadata": {
        "id": "JOZb1phYCOv5"
      },
      "source": [
        "#to add a new node at the begining\n",
        "class Node:\n",
        "  def __init__(self, data = None):\n",
        "    self.data = data\n",
        "    self.next = None\n",
        "class Linked:\n",
        "  def __init__(self):\n",
        "    self.head = None\n",
        "\n",
        "  def show(self):\n",
        "    node = self.head\n",
        "    while node is not None:\n",
        "      print(node.data)\n",
        "      node = node.next\n",
        "  def add(self,new):\n",
        "    new_node = Node(new)\n",
        "    new_node.next = self.head\n",
        "    self.head = new_node"
      ],
      "execution_count": null,
      "outputs": []
    },
    {
      "cell_type": "code",
      "metadata": {
        "id": "3_yLZYq4DlEF"
      },
      "source": [
        "linker = Linked()"
      ],
      "execution_count": null,
      "outputs": []
    },
    {
      "cell_type": "code",
      "metadata": {
        "id": "pHajmjDGDrLN"
      },
      "source": [
        "elo = Node(54)\n"
      ],
      "execution_count": null,
      "outputs": []
    },
    {
      "cell_type": "code",
      "metadata": {
        "colab": {
          "base_uri": "https://localhost:8080/"
        },
        "id": "AKk_oTasDx1b",
        "outputId": "7ec4df60-8a14-440d-9350-37b07d183c2e"
      },
      "source": [
        "linker.head = elo\n",
        "linker.show()"
      ],
      "execution_count": null,
      "outputs": [
        {
          "output_type": "stream",
          "text": [
            "54\n"
          ],
          "name": "stdout"
        }
      ]
    },
    {
      "cell_type": "code",
      "metadata": {
        "colab": {
          "base_uri": "https://localhost:8080/"
        },
        "id": "MF9hLH-iD5Sc",
        "outputId": "53c5fffb-fd87-4e9b-a0e6-db9d160cd2f1"
      },
      "source": [
        "elo2 = Node(40)\n",
        "linker.head.next = elo2\n",
        "linker.show()"
      ],
      "execution_count": null,
      "outputs": [
        {
          "output_type": "stream",
          "text": [
            "54\n",
            "40\n"
          ],
          "name": "stdout"
        }
      ]
    },
    {
      "cell_type": "code",
      "metadata": {
        "id": "sDm58fbpEYtR"
      },
      "source": [
        "linker.add(7)"
      ],
      "execution_count": null,
      "outputs": []
    },
    {
      "cell_type": "code",
      "metadata": {
        "id": "phO0YMsDEkYj",
        "colab": {
          "base_uri": "https://localhost:8080/"
        },
        "outputId": "6787b937-59af-484f-b1ca-a33464c8095f"
      },
      "source": [
        "linker.show()"
      ],
      "execution_count": null,
      "outputs": [
        {
          "output_type": "stream",
          "text": [
            "7\n",
            "54\n",
            "40\n"
          ],
          "name": "stdout"
        }
      ]
    },
    {
      "cell_type": "code",
      "metadata": {
        "id": "lmegrlY2EmJi"
      },
      "source": [
        ""
      ],
      "execution_count": null,
      "outputs": []
    }
  ]
}